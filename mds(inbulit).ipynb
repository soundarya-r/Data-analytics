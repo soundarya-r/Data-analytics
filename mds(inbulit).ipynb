{
  "nbformat": 4,
  "nbformat_minor": 0,
  "metadata": {
    "colab": {
      "name": "mds(inbulit).ipynb",
      "version": "0.3.2",
      "provenance": [],
      "include_colab_link": true
    },
    "kernelspec": {
      "name": "python3",
      "display_name": "Python 3"
    }
  },
  "cells": [
    {
      "cell_type": "markdown",
      "metadata": {
        "id": "view-in-github",
        "colab_type": "text"
      },
      "source": [
        "<a href=\"https://colab.research.google.com/github/soundarya-r/Data-analytics/blob/master/mds(inbulit).ipynb\" target=\"_parent\"><img src=\"https://colab.research.google.com/assets/colab-badge.svg\" alt=\"Open In Colab\"/></a>"
      ]
    },
    {
      "cell_type": "code",
      "metadata": {
        "id": "zfviYYSFTxWE",
        "colab_type": "code",
        "colab": {
          "base_uri": "https://localhost:8080/",
          "height": 269
        },
        "outputId": "7028a6e1-e22e-46e1-da70-01f1ea6be51f"
      },
      "source": [
        "import pandas as pd\n",
        "import numpy as np\n",
        "from sklearn import manifold\n",
        "import matplotlib.pyplot as plt\n",
        "\n",
        "X = [[1,1],[2,1],[2,2],[3,2]]\n",
        "X=np.array(X)\n",
        "plt.scatter(X[:,0],X[:,1])\n",
        "plt.show()"
      ],
      "execution_count": 1,
      "outputs": [
        {
          "output_type": "display_data",
          "data": {
            "image/png": "[encoded data removed]",
            "text/plain": [
              "<Figure size 432x288 with 1 Axes>"
            ]
          },
          "metadata": {
            "tags": []
          }
        }
      ]
    },
    {
      "cell_type": "code",
      "metadata": {
        "id": "T6Ijx1AgT3mG",
        "colab_type": "code",
        "colab": {
          "base_uri": "https://localhost:8080/",
          "height": 87
        },
        "outputId": "87714df4-7375-4cdf-99fd-d8106e640306"
      },
      "source": [
        "from sklearn.metrics.pairwise import euclidean_distances\n",
        "euc_dis=euclidean_distances(X, X)\n",
        "print(euc_dis)"
      ],
      "execution_count": 2,
      "outputs": [
        {
          "output_type": "stream",
          "text": [
            "[[0.         1.         1.41421356 2.23606798]\n",
            " [1.         0.         1.         1.41421356]\n",
            " [1.41421356 1.         0.         1.        ]\n",
            " [2.23606798 1.41421356 1.         0.        ]]\n"
          ],
          "name": "stdout"
        }
      ]
    },
    {
      "cell_type": "code",
      "metadata": {
        "id": "OwN9hTUHT7Fw",
        "colab_type": "code",
        "colab": {}
      },
      "source": [
        "mds = manifold.MDS(n_components=2, dissimilarity=\"euclidean\", n_init=100, max_iter=1000, random_state=10)\n",
        "\n",
        "results = mds.fit(X)"
      ],
      "execution_count": 0,
      "outputs": []
    },
    {
      "cell_type": "code",
      "metadata": {
        "id": "LKc4JkgHT_8I",
        "colab_type": "code",
        "colab": {
          "base_uri": "https://localhost:8080/",
          "height": 683
        },
        "outputId": "e047407a-ead5-49d5-a33a-28af7478f3af"
      },
      "source": [
        "coord = results.embedding_\n",
        "euc_dis_mod=euclidean_distances(coord, coord)\n",
        "print(euc_dis_mod)\n",
        "fig = plt.figure(figsize=(12,10))\n",
        "\n",
        "plt.subplots_adjust(bottom = 0.1)\n",
        "plt.scatter(coord[:, 0], coord[:, 1])\n",
        "\n",
        "\n",
        "plt.show()"
      ],
      "execution_count": 5,
      "outputs": [
        {
          "output_type": "stream",
          "text": [
            "[[0.         1.01355522 1.40169566 2.23240015]\n",
            " [1.01355522 0.         1.00730803 1.42216443]\n",
            " [1.40169566 1.00730803 0.         0.99321055]\n",
            " [2.23240015 1.42216443 0.99321055 0.        ]]\n"
          ],
          "name": "stdout"
        },
        {
          "output_type": "display_data",
          "data": {
            "image/png": "[encoded data removed]",
            "text/plain": [
              "<Figure size 864x720 with 1 Axes>"
            ]
          },
          "metadata": {
            "tags": []
          }
        }
      ]
    },
    {
      "cell_type": "code",
      "metadata": {
        "id": "YkjqGHuNUH21",
        "colab_type": "code",
        "colab": {}
      },
      "source": [
        ""
      ],
      "execution_count": 0,
      "outputs": []
    },
    {
      "cell_type": "code",
      "metadata": {
        "id": "xRwoHAmTUDuB",
        "colab_type": "code",
        "colab": {
          "base_uri": "https://localhost:8080/",
          "height": 269
        },
        "outputId": "3822f9f0-f113-486f-8cd2-fc57d4c63abb"
      },
      "source": [
        "plt.scatter(euc_dis, euc_dis_mod)\n",
        "plt.show()"
      ],
      "execution_count": 6,
      "outputs": [
        {
          "output_type": "display_data",
          "data": {
            "image/png": "[encoded data removed]",
            "text/plain": [
              "<Figure size 432x288 with 1 Axes>"
            ]
          },
          "metadata": {
            "tags": []
          }
        }
      ]
    },
    {
      "cell_type": "code",
      "metadata": {
        "id": "2LvYzfPOUKVr",
        "colab_type": "code",
        "colab": {
          "base_uri": "https://localhost:8080/",
          "height": 269
        },
        "outputId": "427b1145-ca0e-4309-aa72-c629cc7b208a"
      },
      "source": [
        "plt.plot(euc_dis, euc_dis_mod)\n",
        "plt.show()"
      ],
      "execution_count": 7,
      "outputs": [
        {
          "output_type": "display_data",
          "data": {
            "image/png": "[encoded data removed]",
            "text/plain": [
              "<Figure size 432x288 with 1 Axes>"
            ]
          },
          "metadata": {
            "tags": []
          }
        }
      ]
    },
    {
      "cell_type": "code",
      "metadata": {
        "id": "2_6Uu2yxULSm",
        "colab_type": "code",
        "colab": {
          "base_uri": "https://localhost:8080/",
          "height": 87
        },
        "outputId": "321af5a2-5880-4a58-ec6d-a65245dab0b9"
      },
      "source": [
        "print(euc_dis-euc_dis_mod)"
      ],
      "execution_count": 8,
      "outputs": [
        {
          "output_type": "stream",
          "text": [
            "[[ 0.         -0.01355522  0.0125179   0.00366783]\n",
            " [-0.01355522  0.         -0.00730803 -0.00795086]\n",
            " [ 0.0125179  -0.00730803  0.          0.00678945]\n",
            " [ 0.00366783 -0.00795086  0.00678945  0.        ]]\n"
          ],
          "name": "stdout"
        }
      ]
    }
  ]
}