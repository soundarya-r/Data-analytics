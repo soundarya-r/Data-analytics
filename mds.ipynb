{
  "nbformat": 4,
  "nbformat_minor": 0,
  "metadata": {
    "colab": {
      "name": "mds.ipynb",
      "version": "0.3.2",
      "provenance": [],
      "include_colab_link": true
    },
    "kernelspec": {
      "name": "python3",
      "display_name": "Python 3"
    }
  },
  "cells": [
    {
      "cell_type": "markdown",
      "metadata": {
        "id": "view-in-github",
        "colab_type": "text"
      },
      "source": [
        "<a href=\"https://colab.research.google.com/github/soundarya-r/Data-analytics/blob/master/mds.ipynb\" target=\"_parent\"><img src=\"https://colab.research.google.com/assets/colab-badge.svg\" alt=\"Open In Colab\"/></a>"
      ]
    },
    {
      "cell_type": "code",
      "metadata": {
        "id": "8y2CoS7GUmKr",
        "colab_type": "code",
        "colab": {}
      },
      "source": [
        "import numpy as np\n",
        "import pandas as pd\n",
        "import matplotlib.pyplot as plt"
      ],
      "execution_count": 0,
      "outputs": []
    },
    {
      "cell_type": "code",
      "metadata": {
        "id": "f17bdT1pYs8W",
        "colab_type": "code",
        "colab": {}
      },
      "source": [
        "X=[[1,1],[2,1],[2,2],[3,2]]"
      ],
      "execution_count": 0,
      "outputs": []
    },
    {
      "cell_type": "code",
      "metadata": {
        "id": "nzCVZAFIYxzw",
        "colab_type": "code",
        "colab": {}
      },
      "source": [
        "x=[]\n",
        "y=[]\n",
        "for each in X:\n",
        "  count=0\n",
        "  for i in each:\n",
        "    if(count==0):\n",
        "      x.append(i)\n",
        "    else:\n",
        "      y.append(i)\n",
        "    count+=1"
      ],
      "execution_count": 0,
      "outputs": []
    },
    {
      "cell_type": "code",
      "metadata": {
        "id": "XS38kJxfaFus",
        "colab_type": "code",
        "outputId": "29b5036f-57f0-4e70-8c89-80c293416846",
        "colab": {
          "base_uri": "https://localhost:8080/",
          "height": 34
        }
      },
      "source": [
        "x"
      ],
      "execution_count": 0,
      "outputs": [
        {
          "output_type": "execute_result",
          "data": {
            "text/plain": [
              "[1, 2, 2, 3]"
            ]
          },
          "metadata": {
            "tags": []
          },
          "execution_count": 41
        }
      ]
    },
    {
      "cell_type": "code",
      "metadata": {
        "id": "qwrYroFQaM-x",
        "colab_type": "code",
        "outputId": "933daffc-f272-4a1b-887b-5b4a092f82a3",
        "colab": {
          "base_uri": "https://localhost:8080/",
          "height": 34
        }
      },
      "source": [
        "y"
      ],
      "execution_count": 0,
      "outputs": [
        {
          "output_type": "execute_result",
          "data": {
            "text/plain": [
              "[1, 1, 2, 2]"
            ]
          },
          "metadata": {
            "tags": []
          },
          "execution_count": 42
        }
      ]
    },
    {
      "cell_type": "code",
      "metadata": {
        "id": "X9n3PRVFaRVA",
        "colab_type": "code",
        "outputId": "d3bac8aa-ab68-4bb6-e6c2-43371d25b299",
        "colab": {
          "base_uri": "https://localhost:8080/",
          "height": 286
        }
      },
      "source": [
        "plt.scatter(x,y)"
      ],
      "execution_count": 0,
      "outputs": [
        {
          "output_type": "execute_result",
          "data": {
            "text/plain": [
              "<matplotlib.collections.PathCollection at 0x7f2b5e734240>"
            ]
          },
          "metadata": {
            "tags": []
          },
          "execution_count": 43
        },
        {
          "output_type": "display_data",
          "data": {
            "image/png": "[encoded data removed]",
            "text/plain": [
              "<Figure size 432x288 with 1 Axes>"
            ]
          },
          "metadata": {
            "tags": []
          }
        }
      ]
    },
    {
      "cell_type": "code",
      "metadata": {
        "id": "hbcWscGLfTNc",
        "colab_type": "code",
        "colab": {}
      },
      "source": [
        "import statistics\n",
        "xmean=statistics.mean(x)\n",
        "ymean=statistics.mean(y)"
      ],
      "execution_count": 0,
      "outputs": []
    },
    {
      "cell_type": "code",
      "metadata": {
        "id": "bCp4o94ihNb7",
        "colab_type": "code",
        "outputId": "41537239-612c-471b-c78a-4d145cdb326b",
        "colab": {
          "base_uri": "https://localhost:8080/",
          "height": 286
        }
      },
      "source": [
        "meanx=[i-xmean for i in x]\n",
        "meany=[i-ymean for i in y]\n",
        "plt.scatter(meanx,meany,color=\"red\")"
      ],
      "execution_count": 0,
      "outputs": [
        {
          "output_type": "execute_result",
          "data": {
            "text/plain": [
              "<matplotlib.collections.PathCollection at 0x7f2b53906c88>"
            ]
          },
          "metadata": {
            "tags": []
          },
          "execution_count": 64
        },
        {
          "output_type": "display_data",
          "data": {
            "image/png": "[encoded data removed]",
            "text/plain": [
              "<Figure size 432x288 with 1 Axes>"
            ]
          },
          "metadata": {
            "tags": []
          }
        }
      ]
    },
    {
      "cell_type": "code",
      "metadata": {
        "id": "Q4-ciaCxh2Fd",
        "colab_type": "code",
        "outputId": "37c8d3d8-a0af-4bec-b710-dbe42ac23f52",
        "colab": {
          "base_uri": "https://localhost:8080/",
          "height": 87
        }
      },
      "source": [
        "mat=np.column_stack((meanx,meany))\n",
        "prod=np.dot(mat,mat.T)\n",
        "print(prod)"
      ],
      "execution_count": 0,
      "outputs": [
        {
          "output_type": "stream",
          "text": [
            "[[ 1.25  0.25 -0.25 -1.25]\n",
            " [ 0.25  0.25 -0.25 -0.25]\n",
            " [-0.25 -0.25  0.25  0.25]\n",
            " [-1.25 -0.25  0.25  1.25]]\n"
          ],
          "name": "stdout"
        }
      ]
    },
    {
      "cell_type": "code",
      "metadata": {
        "id": "0U2Qfo5Ei6aw",
        "colab_type": "code",
        "outputId": "669ebb83-e7ff-4a8d-af41-227964f1a771",
        "colab": {
          "base_uri": "https://localhost:8080/",
          "height": 34
        }
      },
      "source": [
        "print(\"Eigenvalues\",np.linalg.eigvals(prod))"
      ],
      "execution_count": 0,
      "outputs": [
        {
          "output_type": "stream",
          "text": [
            "Eigenvalues [ 2.61803399e+00  3.81966011e-01 -9.45799730e-17 -2.55373581e-17]\n"
          ],
          "name": "stdout"
        }
      ]
    },
    {
      "cell_type": "code",
      "metadata": {
        "id": "OPmqZ2-KjRtW",
        "colab_type": "code",
        "outputId": "ac152470-e5b9-47a9-964c-f9d18e5ede7c",
        "colab": {
          "base_uri": "https://localhost:8080/",
          "height": 105
        }
      },
      "source": [
        "eigenvalues,eigenvectors=np.linalg.eig(prod)\n",
        "print(eigenvalues)\n",
        "print(eigenvectors)"
      ],
      "execution_count": 0,
      "outputs": [
        {
          "output_type": "stream",
          "text": [
            "[ 2.61803399e+00  3.81966011e-01 -9.45799730e-17 -2.55373581e-17]\n",
            "[[-0.68819096  0.16245985  0.67618941  0.02708022]\n",
            " [-0.16245985 -0.68819096  0.20680399  0.70658804]\n",
            " [ 0.16245985  0.68819096  0.20680399  0.70658804]\n",
            " [ 0.68819096 -0.16245985  0.67618941  0.02708022]]\n"
          ],
          "name": "stdout"
        }
      ]
    },
    {
      "cell_type": "code",
      "metadata": {
        "id": "YnR1NldajsDC",
        "colab_type": "code",
        "outputId": "ed8b43ad-5938-4384-980d-66ddc765b932",
        "colab": {
          "base_uri": "https://localhost:8080/",
          "height": 105
        }
      },
      "source": [
        "evector=eigenvectors[:,[0]]\n",
        "evalue=eigenvalues[0]\n",
        "print (evector)\n",
        "print (evalue)"
      ],
      "execution_count": 0,
      "outputs": [
        {
          "output_type": "stream",
          "text": [
            "[[-0.68819096]\n",
            " [-0.16245985]\n",
            " [ 0.16245985]\n",
            " [ 0.68819096]]\n",
            "2.6180339887498945\n"
          ],
          "name": "stdout"
        }
      ]
    },
    {
      "cell_type": "code",
      "metadata": {
        "id": "Cg7Za9pJkH1v",
        "colab_type": "code",
        "outputId": "dcbd8622-045b-496c-b95b-d1a36c56c24c",
        "colab": {
          "base_uri": "https://localhost:8080/",
          "height": 87
        }
      },
      "source": [
        "import math\n",
        "result=math.sqrt(evalue)*evector\n",
        "print(result)"
      ],
      "execution_count": 0,
      "outputs": [
        {
          "output_type": "stream",
          "text": [
            "[[-1.11351636]\n",
            " [-0.26286556]\n",
            " [ 0.26286556]\n",
            " [ 1.11351636]]\n"
          ],
          "name": "stdout"
        }
      ]
    },
    {
      "cell_type": "code",
      "metadata": {
        "id": "ibtoML0tk44T",
        "colab_type": "code",
        "outputId": "c00e18d0-fd74-4c06-eb68-4ddf5de6b7e4",
        "colab": {
          "base_uri": "https://localhost:8080/",
          "height": 87
        }
      },
      "source": [
        "from sklearn.metrics.pairwise import euclidean_distances\n",
        "distx=euclidean_distances(mat,mat)\n",
        "print(distx)"
      ],
      "execution_count": 0,
      "outputs": [
        {
          "output_type": "stream",
          "text": [
            "[[0.         1.         1.41421356 2.23606798]\n",
            " [1.         0.         1.         1.41421356]\n",
            " [1.41421356 1.         0.         1.        ]\n",
            " [2.23606798 1.41421356 1.         0.        ]]\n"
          ],
          "name": "stdout"
        }
      ]
    },
    {
      "cell_type": "code",
      "metadata": {
        "id": "D0nI-6PTl_Wh",
        "colab_type": "code",
        "outputId": "0659209c-9d44-4be9-cd70-d88736920ede",
        "colab": {
          "base_uri": "https://localhost:8080/",
          "height": 87
        }
      },
      "source": [
        "disty=euclidean_distances(result,result)\n",
        "print(disty)"
      ],
      "execution_count": 0,
      "outputs": [
        {
          "output_type": "stream",
          "text": [
            "[[0.         0.85065081 1.37638192 2.22703273]\n",
            " [0.85065081 0.         0.52573111 1.37638192]\n",
            " [1.37638192 0.52573111 0.         0.85065081]\n",
            " [2.22703273 1.37638192 0.85065081 0.        ]]\n"
          ],
          "name": "stdout"
        }
      ]
    },
    {
      "cell_type": "code",
      "metadata": {
        "id": "KruK4eC1mK3z",
        "colab_type": "code",
        "outputId": "99bd2dc4-5836-4ea3-d87f-06cd3aa33086",
        "colab": {
          "base_uri": "https://localhost:8080/",
          "height": 286
        }
      },
      "source": [
        "plt.scatter(distx,disty,color=\"red\")"
      ],
      "execution_count": 0,
      "outputs": [
        {
          "output_type": "execute_result",
          "data": {
            "text/plain": [
              "<matplotlib.collections.PathCollection at 0x7f2b53869978>"
            ]
          },
          "metadata": {
            "tags": []
          },
          "execution_count": 66
        },
        {
          "output_type": "display_data",
          "data": {
            "image/png": "[encoded data removed]",
            "text/plain": [
              "<Figure size 432x288 with 1 Axes>"
            ]
          },
          "metadata": {
            "tags": []
          }
        }
      ]
    },
    {
      "cell_type": "code",
      "metadata": {
        "id": "BQ8f4x2rmntm",
        "colab_type": "code",
        "outputId": "838442d3-abf8-4598-864f-dc3c78dbfae9",
        "colab": {
          "base_uri": "https://localhost:8080/",
          "height": 339
        }
      },
      "source": [
        "plt.plot(distx,disty,color=\"blue\")"
      ],
      "execution_count": 0,
      "outputs": [
        {
          "output_type": "execute_result",
          "data": {
            "text/plain": [
              "[<matplotlib.lines.Line2D at 0x7f2b5381b0f0>,\n",
              " <matplotlib.lines.Line2D at 0x7f2b5381b240>,\n",
              " <matplotlib.lines.Line2D at 0x7f2b5381b390>,\n",
              " <matplotlib.lines.Line2D at 0x7f2b5381b4e0>]"
            ]
          },
          "metadata": {
            "tags": []
          },
          "execution_count": 68
        },
        {
          "output_type": "display_data",
          "data": {
            "image/png": "[encoded data removed]",
            "text/plain": [
              "<Figure size 432x288 with 1 Axes>"
            ]
          },
          "metadata": {
            "tags": []
          }
        }
      ]
    }
  ]
}